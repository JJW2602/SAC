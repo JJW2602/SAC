{
 "cells": [
  {
   "cell_type": "code",
   "execution_count": 1,
   "id": "c326e4b9",
   "metadata": {},
   "outputs": [],
   "source": [
    "#Test for replaybuffer\n",
    "import torch\n",
    "import numpy as np\n",
    "from ReplayBuffer import ReplayBuffer"
   ]
  },
  {
   "cell_type": "code",
   "execution_count": 2,
   "id": "6635d1f8",
   "metadata": {},
   "outputs": [],
   "source": [
    "device = torch.device('cuda' if torch.cuda.is_available() else 'cpu')\n",
    "RB = ReplayBuffer(3,device)"
   ]
  },
  {
   "cell_type": "code",
   "execution_count": 3,
   "id": "2b2daf41",
   "metadata": {},
   "outputs": [],
   "source": [
    "obs = np.array([1,2])\n",
    "action = np.array([0,1,3])\n",
    "reward =np.array(1)\n",
    "next_obs = np.array([2,3])\n",
    "done = np.array(0)"
   ]
  },
  {
   "cell_type": "code",
   "execution_count": 4,
   "id": "08f11eee",
   "metadata": {},
   "outputs": [],
   "source": [
    "RB.store(obs,action,reward, next_obs, done)\n",
    "RB.store(obs,action,reward, next_obs, done)\n",
    "RB.store(obs,action,reward, next_obs, done)\n",
    "RB.store(obs,action,reward, next_obs, done)"
   ]
  },
  {
   "cell_type": "code",
   "execution_count": 5,
   "id": "88bd9ca6",
   "metadata": {},
   "outputs": [
    {
     "name": "stdout",
     "output_type": "stream",
     "text": [
      "[0 0]\n",
      "{'observations': array([[1, 2],\n",
      "       [1, 2]]), 'actions': array([[0, 1, 3],\n",
      "       [0, 1, 3]]), 'rewards': array([1, 1]), 'next_observations': array([[2, 3],\n",
      "       [2, 3]]), 'dones': array([0, 0])}\n"
     ]
    }
   ],
   "source": [
    "batch = RB.sample(2)\n",
    "print(batch)"
   ]
  },
  {
   "cell_type": "code",
   "execution_count": 6,
   "id": "7ae8bf78",
   "metadata": {},
   "outputs": [],
   "source": [
    "from util import *"
   ]
  },
  {
   "cell_type": "code",
   "execution_count": 7,
   "id": "0e41442f",
   "metadata": {},
   "outputs": [],
   "source": [
    "num_batch = from_numpy(batch)"
   ]
  },
  {
   "cell_type": "code",
   "execution_count": 10,
   "id": "b6b403d3",
   "metadata": {},
   "outputs": [
    {
     "name": "stdout",
     "output_type": "stream",
     "text": [
      "{'observations': tensor([[1, 2],\n",
      "        [1, 2]], device='cuda:0'), 'actions': tensor([[0, 1, 3],\n",
      "        [0, 1, 3]], device='cuda:0'), 'rewards': tensor([1, 1], device='cuda:0'), 'next_observations': tensor([[2, 3],\n",
      "        [2, 3]], device='cuda:0'), 'dones': tensor([0, 0], device='cuda:0')}\n"
     ]
    }
   ],
   "source": [
    "print(num_batch)"
   ]
  },
  {
   "cell_type": "code",
   "execution_count": 19,
   "id": "ec63e0c1",
   "metadata": {},
   "outputs": [],
   "source": [
    "obs = torch.tensor([[3,1,2],[1,2,3]])\n",
    "actions = torch.tensor([[3,2,5,1,2],[1,2,3,4,5]])"
   ]
  },
  {
   "cell_type": "code",
   "execution_count": 20,
   "id": "67464d5a",
   "metadata": {},
   "outputs": [
    {
     "name": "stdout",
     "output_type": "stream",
     "text": [
      "tensor([[3, 1, 2],\n",
      "        [1, 2, 3]])\n"
     ]
    }
   ],
   "source": [
    "print(obs)"
   ]
  },
  {
   "cell_type": "code",
   "execution_count": 24,
   "id": "61e8ef16",
   "metadata": {},
   "outputs": [],
   "source": [
    "x = torch.cat([obs,actions], dim=1)"
   ]
  },
  {
   "cell_type": "code",
   "execution_count": 22,
   "id": "518b9fc6",
   "metadata": {},
   "outputs": [
    {
     "name": "stdout",
     "output_type": "stream",
     "text": [
      "tensor([[3, 1, 2, 3, 2, 5, 1, 2],\n",
      "        [1, 2, 3, 1, 2, 3, 4, 5]])\n"
     ]
    }
   ],
   "source": [
    "print(x)"
   ]
  },
  {
   "cell_type": "code",
   "execution_count": 2,
   "id": "cb9d8408",
   "metadata": {},
   "outputs": [],
   "source": [
    "from SAC_agent import *\n",
    "from agent import *"
   ]
  },
  {
   "cell_type": "code",
   "execution_count": 1,
   "id": "166d7e4c",
   "metadata": {},
   "outputs": [
    {
     "name": "stderr",
     "output_type": "stream",
     "text": [
      "/root/DILLAB/.conda/lib/python3.11/site-packages/gymnasium/envs/registration.py:519: DeprecationWarning: \u001b[33mWARN: The environment Hopper-v4 is out of date. You should consider upgrading to version `v5`.\u001b[0m\n",
      "  logger.deprecation(\n"
     ]
    }
   ],
   "source": [
    "#Test for env.step\n",
    "import gymnasium as gym\n",
    "import torch\n",
    "import numpy as np\n",
    "\n",
    "env = gym.make(\"Hopper-v4\")\n",
    "obs , _ = env.reset()\n",
    "action_dim = env.action_space.shape[0]\n",
    "obs_dim = env.observation_space.shape[0]"
   ]
  },
  {
   "cell_type": "code",
   "execution_count": 2,
   "id": "649739f4",
   "metadata": {},
   "outputs": [],
   "source": [
    "from SAC_agent import Agent\n",
    "\n",
    "agent = Agent(obs_dim, action_dim)\n",
    "device = torch.device('cuda' if torch.cuda.is_available() else 'cpu')"
   ]
  },
  {
   "cell_type": "code",
   "execution_count": 3,
   "id": "c00ee0d6",
   "metadata": {},
   "outputs": [],
   "source": [
    "obs = torch.from_numpy(obs)"
   ]
  },
  {
   "cell_type": "code",
   "execution_count": 30,
   "id": "a23d9e94",
   "metadata": {},
   "outputs": [
    {
     "data": {
      "text/plain": [
       "device(type='cuda', index=0)"
      ]
     },
     "execution_count": 30,
     "metadata": {},
     "output_type": "execute_result"
    }
   ],
   "source": [
    "obs.device"
   ]
  },
  {
   "cell_type": "code",
   "execution_count": 8,
   "id": "1681d379",
   "metadata": {},
   "outputs": [
    {
     "name": "stdout",
     "output_type": "stream",
     "text": [
      "tensor([ 1.2513e+00, -2.8599e-03, -2.4237e-03, -4.2992e-03, -4.2723e-03,\n",
      "        -1.5862e-03,  1.4625e-03,  5.4137e-04,  2.5411e-03,  4.0714e-04,\n",
      "        -2.9587e-03])\n"
     ]
    }
   ],
   "source": [
    "print(obs.float())"
   ]
  },
  {
   "cell_type": "code",
   "execution_count": 11,
   "id": "4c6877c2",
   "metadata": {},
   "outputs": [],
   "source": [
    "action = agent.policy.get_action(obs.float())"
   ]
  },
  {
   "cell_type": "code",
   "execution_count": 21,
   "id": "a2f6d787",
   "metadata": {},
   "outputs": [
    {
     "data": {
      "text/plain": [
       "3"
      ]
     },
     "execution_count": 21,
     "metadata": {},
     "output_type": "execute_result"
    }
   ],
   "source": [
    "env.action_space.shape[0]"
   ]
  },
  {
   "cell_type": "code",
   "execution_count": null,
   "id": "b619bec4",
   "metadata": {},
   "outputs": [
    {
     "data": {
      "text/plain": [
       "array([ 0.5587984 , -0.09451637,  0.956371  ], dtype=float32)"
      ]
     },
     "execution_count": 25,
     "metadata": {},
     "output_type": "execute_result"
    }
   ],
   "source": [
    "env.action_space.sample().squeeze()"
   ]
  },
  {
   "cell_type": "code",
   "execution_count": 10,
   "id": "283b9334",
   "metadata": {},
   "outputs": [
    {
     "name": "stdout",
     "output_type": "stream",
     "text": [
      "tensor([-0.7608, -0.5162,  0.7246])\n"
     ]
    }
   ],
   "source": [
    "print(action)"
   ]
  },
  {
   "cell_type": "code",
   "execution_count": 3,
   "id": "935a8dbd",
   "metadata": {},
   "outputs": [],
   "source": [
    "device = torch.device('cuda' if torch.cuda.is_available() else 'cpu')"
   ]
  },
  {
   "cell_type": "code",
   "execution_count": 13,
   "id": "335ef298",
   "metadata": {},
   "outputs": [],
   "source": [
    "tt = tt.to(device)"
   ]
  },
  {
   "cell_type": "code",
   "execution_count": 14,
   "id": "e47e0e49",
   "metadata": {},
   "outputs": [],
   "source": [
    "# test for nn.softplus\n",
    "from agent import Policy\n",
    "import torch\n",
    "\n",
    "p = Policy(1,1)"
   ]
  },
  {
   "cell_type": "code",
   "execution_count": 16,
   "id": "5dd28375",
   "metadata": {},
   "outputs": [],
   "source": [
    "input = torch.tensor([-2.3])"
   ]
  },
  {
   "cell_type": "code",
   "execution_count": 17,
   "id": "5a5fecdc",
   "metadata": {},
   "outputs": [],
   "source": [
    "mean ,std = p(input.float())"
   ]
  },
  {
   "cell_type": "code",
   "execution_count": 22,
   "id": "101ed6b8",
   "metadata": {},
   "outputs": [],
   "source": [
    "#Test for Policy\n",
    "from agent import Policy\n",
    "\n",
    "p = Policy(3,3)\n",
    "obs = torch.tensor([1,2,3])\n",
    "dis = p.squashed_distribution(obs.float())"
   ]
  },
  {
   "cell_type": "code",
   "execution_count": 23,
   "id": "653abaf2",
   "metadata": {},
   "outputs": [],
   "source": [
    "a = dis.sample()"
   ]
  },
  {
   "cell_type": "code",
   "execution_count": 24,
   "id": "f8e33434",
   "metadata": {},
   "outputs": [
    {
     "name": "stdout",
     "output_type": "stream",
     "text": [
      "tensor([-0.5117, -0.5481,  0.9691])\n"
     ]
    }
   ],
   "source": [
    "print(a)"
   ]
  },
  {
   "cell_type": "code",
   "execution_count": 25,
   "id": "fce30d36",
   "metadata": {},
   "outputs": [
    {
     "name": "stdout",
     "output_type": "stream",
     "text": [
      "Independent(TransformedDistribution(), 1)\n"
     ]
    }
   ],
   "source": [
    "print(dis)"
   ]
  },
  {
   "cell_type": "code",
   "execution_count": null,
   "id": "12df10af",
   "metadata": {},
   "outputs": [
    {
     "ename": "TypeError",
     "evalue": "'tuple' object is not callable",
     "output_type": "error",
     "traceback": [
      "\u001b[31m---------------------------------------------------------------------------\u001b[39m",
      "\u001b[31mTypeError\u001b[39m                                 Traceback (most recent call last)",
      "\u001b[36mCell\u001b[39m\u001b[36m \u001b[39m\u001b[32mIn[15]\u001b[39m\u001b[32m, line 5\u001b[39m\n\u001b[32m      2\u001b[39m \u001b[38;5;28;01mimport\u001b[39;00m\u001b[38;5;250m \u001b[39m\u001b[34;01mnumpy\u001b[39;00m\u001b[38;5;250m \u001b[39m\u001b[38;5;28;01mas\u001b[39;00m\u001b[38;5;250m \u001b[39m\u001b[34;01mnp\u001b[39;00m\n\u001b[32m      3\u001b[39m a = np.array([[\u001b[32m1\u001b[39m,\u001b[32m2\u001b[39m,\u001b[32m3\u001b[39m]])\n\u001b[32m----> \u001b[39m\u001b[32m5\u001b[39m \u001b[38;5;28mprint\u001b[39m(\u001b[43ma\u001b[49m\u001b[43m.\u001b[49m\u001b[43mshape\u001b[49m\u001b[43m(\u001b[49m\u001b[43m)\u001b[49m)\n",
      "\u001b[31mTypeError\u001b[39m: 'tuple' object is not callable"
     ]
    }
   ],
   "source": [
    "#squeeze\n",
    "import numpy as np\n",
    "a = np.array([[1,2,3]])\n"
   ]
  },
  {
   "cell_type": "code",
   "execution_count": 16,
   "id": "1c3de088",
   "metadata": {},
   "outputs": [
    {
     "name": "stdout",
     "output_type": "stream",
     "text": [
      "[[1 2 3]]\n"
     ]
    }
   ],
   "source": [
    "print(a)"
   ]
  },
  {
   "cell_type": "code",
   "execution_count": 18,
   "id": "854a0eba",
   "metadata": {},
   "outputs": [],
   "source": [
    "a = a.squeeze(0)"
   ]
  },
  {
   "cell_type": "code",
   "execution_count": 19,
   "id": "0eff1aea",
   "metadata": {},
   "outputs": [
    {
     "name": "stdout",
     "output_type": "stream",
     "text": [
      "[1 2 3]\n"
     ]
    }
   ],
   "source": [
    "print(a)"
   ]
  },
  {
   "cell_type": "code",
   "execution_count": 3,
   "id": "0197e034",
   "metadata": {},
   "outputs": [],
   "source": [
    "import torch"
   ]
  },
  {
   "cell_type": "code",
   "execution_count": 8,
   "id": "035804a9",
   "metadata": {},
   "outputs": [
    {
     "data": {
      "text/plain": [
       "1"
      ]
     },
     "execution_count": 8,
     "metadata": {},
     "output_type": "execute_result"
    }
   ],
   "source": [
    "A = torch.tensor([1,2,3])\n",
    "\n",
    "A.dim()"
   ]
  },
  {
   "cell_type": "code",
   "execution_count": 1,
   "id": "d983d1cc",
   "metadata": {},
   "outputs": [],
   "source": [
    "import sys"
   ]
  },
  {
   "cell_type": "code",
   "execution_count": 2,
   "id": "1b3a6a2f",
   "metadata": {},
   "outputs": [
    {
     "name": "stdout",
     "output_type": "stream",
     "text": [
      "['/root/DILLAB/.conda/lib/python311.zip', '/root/DILLAB/.conda/lib/python3.11', '/root/DILLAB/.conda/lib/python3.11/lib-dynload', '', '/root/DILLAB/.conda/lib/python3.11/site-packages']\n"
     ]
    }
   ],
   "source": [
    "print(sys.path)"
   ]
  },
  {
   "cell_type": "code",
   "execution_count": 3,
   "id": "6c5a7799",
   "metadata": {},
   "outputs": [],
   "source": [
    "#Simulation for Expectation, MSE loss\n",
    "import torch.nn.functional as F"
   ]
  },
  {
   "cell_type": "code",
   "execution_count": 6,
   "id": "40ed9ca9",
   "metadata": {},
   "outputs": [
    {
     "name": "stdout",
     "output_type": "stream",
     "text": [
      "샘플: tensor([-0.9215,  0.5851,  0.2981]) tensor([-0.8884, -0.6725,  0.7429])\n",
      "\n",
      "Raw log_prob (per dimension): tensor([-1.3136, -1.1451, -1.1949])\n",
      "Summed log_prob (Independent): tensor(-3.3970)\n"
     ]
    }
   ],
   "source": [
    "import torch\n",
    "from torch.distributions import Normal, Independent\n",
    "\n",
    "# 예시: 3차원 액션 공간\n",
    "mean = torch.tensor([0.0, 0.0, 0.0])\n",
    "std = torch.tensor([1.0, 1.0, 1.0])\n",
    "\n",
    "# 1. 그냥 Normal distribution (다차원이지만 각 차원 독립)\n",
    "dist_raw = Normal(mean, std)\n",
    "\n",
    "# 2. Independent wrapper를 씌운 벡터 분포\n",
    "dist_vec = Independent(dist_raw, reinterpreted_batch_ndims=1)\n",
    "\n",
    "# 샘플\n",
    "sample_vec = dist_vec.sample()\n",
    "sample_raw = dist_raw.sample()\n",
    "print(\"샘플:\", sample_vec, sample_raw)\n",
    "\n",
    "# log_prob 계산\n",
    "log_prob_raw = dist_raw.log_prob(sample_raw)\n",
    "log_prob_vec = dist_vec.log_prob(sample_vec)\n",
    "\n",
    "print(\"\\nRaw log_prob (per dimension):\", log_prob_raw)\n",
    "print(\"Summed log_prob (Independent):\", log_prob_vec)"
   ]
  },
  {
   "cell_type": "code",
   "execution_count": 28,
   "id": "5d4fa200",
   "metadata": {},
   "outputs": [
    {
     "name": "stdout",
     "output_type": "stream",
     "text": [
      "tensor([1.5000, 2.5000, 3.5000])\n",
      "tensor([2., 3.])\n"
     ]
    }
   ],
   "source": [
    "A=torch.tensor([[1,2,3],[2,3,4]], dtype=torch.float32)\n",
    "B = torch.tensor([[1,2,3],[2,3,4]], dtype=torch.float32)\n",
    "\n",
    "\n",
    "print(A.mean(dim=0))\n",
    "print(A.mean(dim=1))"
   ]
  },
  {
   "cell_type": "code",
   "execution_count": 26,
   "id": "d236078c",
   "metadata": {},
   "outputs": [
    {
     "data": {
      "text/plain": [
       "torch.Size([2, 3])"
      ]
     },
     "execution_count": 26,
     "metadata": {},
     "output_type": "execute_result"
    }
   ],
   "source": [
    "A.size()"
   ]
  },
  {
   "cell_type": "code",
   "execution_count": 34,
   "id": "1d769bbf",
   "metadata": {},
   "outputs": [],
   "source": [
    "import numpy as np"
   ]
  },
  {
   "cell_type": "code",
   "execution_count": 41,
   "id": "d089d9ac",
   "metadata": {},
   "outputs": [],
   "source": [
    "a= np.array([1])"
   ]
  },
  {
   "cell_type": "code",
   "execution_count": 42,
   "id": "dd9bccd2",
   "metadata": {},
   "outputs": [
    {
     "name": "stdout",
     "output_type": "stream",
     "text": [
      "1\n"
     ]
    }
   ],
   "source": [
    "print(*a.shape)"
   ]
  },
  {
   "cell_type": "code",
   "execution_count": null,
   "id": "2cc2ec5c",
   "metadata": {},
   "outputs": [
    {
     "name": "stdout",
     "output_type": "stream",
     "text": [
      "[[6.79905637e-316]\n",
      " [0.00000000e+000]\n",
      " [0.00000000e+000]\n",
      " [0.00000000e+000]\n",
      " [0.00000000e+000]\n",
      " [0.00000000e+000]\n",
      " [0.00000000e+000]\n",
      " [0.00000000e+000]\n",
      " [0.00000000e+000]\n",
      " [0.00000000e+000]\n",
      " [0.00000000e+000]\n",
      " [0.00000000e+000]\n",
      " [0.00000000e+000]\n",
      " [0.00000000e+000]\n",
      " [6.32404027e-322]]\n"
     ]
    }
   ],
   "source": [
    "A = np.empty((15,1))\n",
    "print(A)"
   ]
  },
  {
   "cell_type": "code",
   "execution_count": 46,
   "id": "fff6eeb3",
   "metadata": {},
   "outputs": [
    {
     "data": {
      "text/plain": [
       "(15, 1)"
      ]
     },
     "execution_count": 46,
     "metadata": {},
     "output_type": "execute_result"
    }
   ],
   "source": [
    "A.shape"
   ]
  },
  {
   "cell_type": "code",
   "execution_count": 48,
   "id": "a7b81273",
   "metadata": {},
   "outputs": [],
   "source": [
    "B = A[[1,2,3]]"
   ]
  },
  {
   "cell_type": "code",
   "execution_count": 49,
   "id": "e6260d8e",
   "metadata": {},
   "outputs": [
    {
     "data": {
      "text/plain": [
       "array([[0.],\n",
       "       [0.],\n",
       "       [0.]])"
      ]
     },
     "execution_count": 49,
     "metadata": {},
     "output_type": "execute_result"
    }
   ],
   "source": [
    "B"
   ]
  },
  {
   "cell_type": "code",
   "execution_count": 50,
   "id": "4bc8e8b1",
   "metadata": {},
   "outputs": [],
   "source": [
    "A=1\n",
    "A = np.array(A)"
   ]
  },
  {
   "cell_type": "code",
   "execution_count": 51,
   "id": "3be7ebe7",
   "metadata": {},
   "outputs": [
    {
     "name": "stdout",
     "output_type": "stream",
     "text": [
      "1\n"
     ]
    }
   ],
   "source": [
    "print(A)"
   ]
  },
  {
   "cell_type": "code",
   "execution_count": 52,
   "id": "81ab0dd7",
   "metadata": {},
   "outputs": [
    {
     "data": {
      "text/plain": [
       "()"
      ]
     },
     "execution_count": 52,
     "metadata": {},
     "output_type": "execute_result"
    }
   ],
   "source": [
    "A.shape"
   ]
  },
  {
   "cell_type": "code",
   "execution_count": 56,
   "id": "bb83572c",
   "metadata": {},
   "outputs": [],
   "source": [
    "s = torch.tensor([[1,2,3],[1,2,3]])"
   ]
  },
  {
   "cell_type": "code",
   "execution_count": 58,
   "id": "d7f5d9bd",
   "metadata": {},
   "outputs": [
    {
     "data": {
      "text/plain": [
       "tensor([[ 0, -1, -2],\n",
       "        [ 0, -1, -2]])"
      ]
     },
     "execution_count": 58,
     "metadata": {},
     "output_type": "execute_result"
    }
   ],
   "source": [
    "1-s"
   ]
  },
  {
   "cell_type": "code",
   "execution_count": null,
   "id": "165b2ad9",
   "metadata": {},
   "outputs": [],
   "source": []
  }
 ],
 "metadata": {
  "kernelspec": {
   "display_name": "Python 3",
   "language": "python",
   "name": "python3"
  },
  "language_info": {
   "codemirror_mode": {
    "name": "ipython",
    "version": 3
   },
   "file_extension": ".py",
   "mimetype": "text/x-python",
   "name": "python",
   "nbconvert_exporter": "python",
   "pygments_lexer": "ipython3",
   "version": "3.11.11"
  }
 },
 "nbformat": 4,
 "nbformat_minor": 5
}
